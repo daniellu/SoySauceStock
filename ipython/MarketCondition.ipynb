{
 "cells": [
  {
   "cell_type": "code",
   "execution_count": null,
   "metadata": {
    "collapsed": false
   },
   "outputs": [],
   "source": [
    "from pandas_datareader import data, wb\n",
    "import pandas as pd\n",
    "import numpy as np\n",
    "import datetime"
   ]
  },
  {
   "cell_type": "code",
   "execution_count": null,
   "metadata": {
    "collapsed": true
   },
   "outputs": [],
   "source": [
    "start = datetime.datetime(2013,1,1)\n",
    "end = datetime.datetime(2016,3,20)"
   ]
  },
  {
   "cell_type": "code",
   "execution_count": null,
   "metadata": {
    "collapsed": true
   },
   "outputs": [],
   "source": [
    "def label_condition(row):\n",
    "    if row['Close'] > row['CloseMA'] * 1.02:\n",
    "        return 'Bull'\n",
    "    if row['Close'] < row['CloseMA'] * 0.98:\n",
    "        return 'Bear'\n",
    "    return 'Sideway'"
   ]
  },
  {
   "cell_type": "code",
   "execution_count": null,
   "metadata": {
    "collapsed": false
   },
   "outputs": [],
   "source": [
    "tsx = data.DataReader(\"INDEXTSI:OSPTX\", 'google', start, end)   #TSX index\n",
    "atr = tsx.copy()"
   ]
  },
  {
   "cell_type": "code",
   "execution_count": null,
   "metadata": {
    "collapsed": false
   },
   "outputs": [],
   "source": [
    "tsx_ma20 = pd.rolling_mean(tsx, 20, 20)"
   ]
  },
  {
   "cell_type": "code",
   "execution_count": null,
   "metadata": {
    "collapsed": false
   },
   "outputs": [],
   "source": [
    "tsx_ma20 = tsx_ma20.rename(columns={'Close': 'CloseMA'})"
   ]
  },
  {
   "cell_type": "code",
   "execution_count": null,
   "metadata": {
    "collapsed": false
   },
   "outputs": [],
   "source": [
    "# select sub columns\n",
    "tsx = tsx[['Close']]\n",
    "tsx_ma20 = tsx_ma20[['CloseMA']]"
   ]
  },
  {
   "cell_type": "code",
   "execution_count": null,
   "metadata": {
    "collapsed": false
   },
   "outputs": [],
   "source": [
    "tsx = tsx.join(tsx_ma20)\n",
    "# take only the one with CLoseMA value\n",
    "tsx = tsx[np.isfinite(tsx['CloseMA'])]"
   ]
  },
  {
   "cell_type": "code",
   "execution_count": null,
   "metadata": {
    "collapsed": false
   },
   "outputs": [],
   "source": [
    "tsx['MarketCondition'] = tsx.apply(lambda row: label_condition(row), axis=1)\n",
    "#tsx.ix['2015-01-02']\n",
    " "
   ]
  },
  {
   "cell_type": "code",
   "execution_count": null,
   "metadata": {
    "collapsed": false
   },
   "outputs": [],
   "source": [
    "atr = atr[['High', 'Low', 'Close']]\n"
   ]
  },
  {
   "cell_type": "code",
   "execution_count": null,
   "metadata": {
    "collapsed": false
   },
   "outputs": [],
   "source": [
    "atr_prev = atr.shift().rename(columns={'Close': 'ClosePrev'})\n",
    "atr_prev = atr_prev[['ClosePrev']]"
   ]
  },
  {
   "cell_type": "code",
   "execution_count": null,
   "metadata": {
    "collapsed": false
   },
   "outputs": [],
   "source": [
    "atr = atr.join(atr_prev)\n",
    "atr = atr[np.isfinite(atr['ClosePrev'])]"
   ]
  },
  {
   "cell_type": "code",
   "execution_count": null,
   "metadata": {
    "collapsed": true
   },
   "outputs": [],
   "source": [
    "def get_avg_true_range(df, period=14):\n",
    "    df['tr1'] = df['High'] - df['Low']\n",
    "    df['tr2'] = abs(df['High'] - df['ClosePrev'])\n",
    "    df['tr3'] = abs(df['Low'] - df['ClosePrev'])\n",
    "    df['TrueRange'] = df[['tr1','tr2','tr3']].max(axis=1)\n",
    "    temp_df = pd.rolling_mean(df, period, period)\n",
    "    temp_df = temp_df[['TrueRange']].rename(columns={'TrueRange':'AvgTrueRange'})\n",
    "    return temp_df[['AvgTrueRange']]"
   ]
  },
  {
   "cell_type": "code",
   "execution_count": null,
   "metadata": {
    "collapsed": false
   },
   "outputs": [],
   "source": [
    "atr = get_avg_true_range(atr)\n",
    "atr_ma = pd.rolling_mean(atr, 100, 100).rename(columns={'AvgTrueRange': 'AvgTrueRangeMA'})\n",
    "atr_ma = atr_ma[np.isfinite(atr_ma['AvgTrueRangeMA'])]\n",
    "atr_ma_std = pd.rolling_std(atr, 100, 100).rename(columns={'AvgTrueRange': 'AvgTrueRangeMAStd'})\n",
    "atr_ma_std = atr_ma_std[np.isfinite(atr_ma_std['AvgTrueRangeMAStd'])]\n",
    "atr = atr[np.isfinite(atr['AvgTrueRange'])]\n"
   ]
  },
  {
   "cell_type": "code",
   "execution_count": null,
   "metadata": {
    "collapsed": true
   },
   "outputs": [],
   "source": [
    "atr = atr.join(atr_ma, how='inner').join(atr_ma_std, how='inner')"
   ]
  },
  {
   "cell_type": "code",
   "execution_count": null,
   "metadata": {
    "collapsed": true
   },
   "outputs": [],
   "source": [
    "def label_volatility(row):\n",
    "    if row['AvgTrueRange'] - row['AvgTrueRangeMA'] > row['AvgTrueRangeMAStd']:\n",
    "        return 'Volatile'\n",
    "    if row['AvgTrueRangeMA'] - row['AvgTrueRange'] > row['AvgTrueRangeMAStd']:\n",
    "        return 'Quiet'\n",
    "    return 'Normal'"
   ]
  },
  {
   "cell_type": "code",
   "execution_count": null,
   "metadata": {
    "collapsed": false
   },
   "outputs": [],
   "source": [
    "atr['MarketVolatility'] = atr.apply(lambda row: label_volatility(row), axis=1)\n"
   ]
  },
  {
   "cell_type": "code",
   "execution_count": null,
   "metadata": {
    "collapsed": false
   },
   "outputs": [],
   "source": [
    "tsx.join(atr, how='inner')"
   ]
  }
 ],
 "metadata": {
  "kernelspec": {
   "display_name": "Python 2",
   "language": "python",
   "name": "python2"
  },
  "language_info": {
   "codemirror_mode": {
    "name": "ipython",
    "version": 2
   },
   "file_extension": ".py",
   "mimetype": "text/x-python",
   "name": "python",
   "nbconvert_exporter": "python",
   "pygments_lexer": "ipython2",
   "version": "2.7.11"
  }
 },
 "nbformat": 4,
 "nbformat_minor": 0
}

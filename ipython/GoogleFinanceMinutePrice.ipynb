{
 "cells": [
  {
   "cell_type": "code",
   "execution_count": null,
   "metadata": {
    "collapsed": false
   },
   "outputs": [],
   "source": [
    "import pandas as pd\n",
    "import numpy as np\n",
    "from urllib.request import urlopen\n",
    "#import urllib2\n",
    "import datetime as dt\n",
    "import matplotlib.pyplot as plt\n",
    " \n",
    "def get_google_data(symbol, period, window):\n",
    "    url_root = 'http://www.google.com/finance/getprices?i='\n",
    "    url_root += str(period) + '&p=' + str(window)\n",
    "    url_root += 'd&f=d,o,h,l,c,v&df=cpct&q=' + symbol\n",
    "    print(url_root)\n",
    "    response = urlopen(url_root)\n",
    "    #response = urllib2.urlopen(url_root)\n",
    "    data = response.read().decode(\"utf-8\").split('\\n')\n",
    "    #actual data starts at index = 7\n",
    "    #first line contains full timestamp,\n",
    "    #every other line is offset of period from timestamp\n",
    "    parsed_data = []\n",
    "    anchor_stamp = ''\n",
    "    end = len(data)\n",
    "    for i in range(7, end):\n",
    "        cdata = data[i].split(',')\n",
    "        if 'a' in cdata[0]:\n",
    "            #first one record anchor timestamp\n",
    "            anchor_stamp = cdata[0].replace('a', '')\n",
    "            cts = int(anchor_stamp)\n",
    "        else:\n",
    "            try:\n",
    "                coffset = int(cdata[0])\n",
    "                cts = int(anchor_stamp) + (coffset * period)\n",
    "                parsed_data.append((dt.datetime.fromtimestamp(float(cts)), float(cdata[1]), float(cdata[2]), float(cdata[3]), float(cdata[4]), float(cdata[5])))\n",
    "            except:\n",
    "                pass # for time zone offsets thrown into data\n",
    "    df = pd.DataFrame(parsed_data)\n",
    "    df.columns = ['ts', 'o', 'h', 'l', 'c', 'v']\n",
    "    df.index = df.ts\n",
    "    del df['ts']\n",
    "    return df"
   ]
  },
  {
   "cell_type": "code",
   "execution_count": null,
   "metadata": {
    "collapsed": false
   },
   "outputs": [],
   "source": [
    "get_google_data('AAPL', 60, 100000)"
   ]
  }
 ],
 "metadata": {
  "kernelspec": {
   "display_name": "Python 3",
   "language": "python",
   "name": "python3"
  },
  "language_info": {
   "codemirror_mode": {
    "name": "ipython",
    "version": 3
   },
   "file_extension": ".py",
   "mimetype": "text/x-python",
   "name": "python",
   "nbconvert_exporter": "python",
   "pygments_lexer": "ipython3",
   "version": "3.5.1"
  }
 },
 "nbformat": 4,
 "nbformat_minor": 0
}

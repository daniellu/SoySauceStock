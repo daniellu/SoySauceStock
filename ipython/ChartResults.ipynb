{
 "cells": [
  {
   "cell_type": "code",
   "execution_count": 1,
   "metadata": {
    "collapsed": true
   },
   "outputs": [],
   "source": [
    "import json\n",
    "import os\n",
    "import pandas as pd\n",
    "\n",
    "from selenium import webdriver\n",
    "from selenium.webdriver.support.ui import Select\n",
    "from selenium.webdriver.common.keys import Keys\n",
    "\n",
    "from datetime import date\n",
    "from dateutil import parser\n",
    "from dateutil.relativedelta import relativedelta"
   ]
  },
  {
   "cell_type": "code",
   "execution_count": 2,
   "metadata": {
    "collapsed": false
   },
   "outputs": [],
   "source": [
    "def addyears(date_str, num):\n",
    "    d = parser.parse(date_str).date()\n",
    "    return str(d + relativedelta(years=num))\n",
    "def adddays(date_str, num):\n",
    "    d = parser.parse(date_str).date()\n",
    "    return str(d + relativedelta(days=num))\n",
    "def save_pic(driver, ticker, start_date, end_date, file_name):\n",
    "    driver.find_element_by_id('navsearchtext').send_keys(Keys.CONTROL + 'a' + Keys.NULL, ticker)\n",
    "    driver.find_element_by_id('navsearchbutton').click()\n",
    "    select = Select(driver.find_element_by_id('dataRange'))\n",
    "    select.select_by_visible_text('Select Start/End')\n",
    "    driver.find_element_by_id('start').send_keys(Keys.CONTROL + 'a' + Keys.NULL, start_date)\n",
    "    driver.find_element_by_id('submitButton').click() # otherwise the end date wont change\n",
    "    driver.find_element_by_id('end').send_keys(Keys.CONTROL + 'a' + Keys.NULL, end_date)\n",
    "    driver.find_element_by_id('submitButton').click()\n",
    "    driver.get_screenshot_as_file(file_name)\n",
    "    \n",
    "def save_charts(trade, driver):\n",
    "    ticker = trade.EnterTicker\n",
    "    file_period_name = trade.EnterDate.replace('-','_')\n",
    "    enter_period = trade.EnterDate\n",
    "    enter_one_year_back = addyears(enter_period, -1)\n",
    "    enter_file_name = str.format('{0}_{1}_Entry.png', file_period_name, ticker.replace('/', '-'))\n",
    "    exit_period = trade.ExitDate\n",
    "    exit_one_year_back = addyears(exit_period, -1)\n",
    "    exit_file_name = str.format('{0}_{1}_Exit.png', file_period_name, ticker.replace('/', '-'))\n",
    "    p10_period = adddays(exit_period, 15) # two weeks\n",
    "    p10_one_year_back = addyears(p10_period, -1)\n",
    "    p10_file_name = str.format('{0}_{1}_Exit_p10.png', file_period_name, ticker.replace('/', '-'))\n",
    "    p30_period = adddays(exit_period, 90) # three months\n",
    "    p30_one_year_back = addyears(p30_period, -1)\n",
    "    p30_file_name = str.format('{0}_{1}_Exit_p30.png', file_period_name, ticker.replace('/', '-'))\n",
    "    save_pic(driver, ticker, enter_one_year_back, enter_period, enter_file_name)\n",
    "    save_pic(driver, ticker, exit_one_year_back, exit_period, exit_file_name)\n",
    "    save_pic(driver, ticker, p10_one_year_back, p10_period, p10_file_name)\n",
    "    save_pic(driver, ticker, p30_one_year_back, p30_period, p30_file_name)"
   ]
  },
  {
   "cell_type": "code",
   "execution_count": 4,
   "metadata": {
    "collapsed": false
   },
   "outputs": [],
   "source": [
    "driver = webdriver.Firefox()\n",
    "driver.implicitly_wait(10) # seconds\n",
    "driver.get(\"http://stockcharts.com\")\n",
    "account_json = 'C:\\\\Tools\\\\stockchart.json'\n",
    "with open(account_json) as data_file:    \n",
    "    account_info = json.load(data_file)\n",
    "driver.find_element_by_link_text('Login').click()\n",
    "driver.find_element_by_id('form_UserID').send_keys(account_info['user_name'])\n",
    "driver.find_element_by_name('form_UserPassword').send_keys(account_info['password'])\n",
    "driver.find_element_by_id('loginbutton').submit()"
   ]
  },
  {
   "cell_type": "code",
   "execution_count": 5,
   "metadata": {
    "collapsed": false
   },
   "outputs": [],
   "source": [
    "trade_file = \"C:\\\\temp\\\\trade_result.csv\"\n",
    "trade_df = pd.read_csv(trade_file, parse_dates=True)\n",
    "for index in range(0, trade_df.EnterDate.size):\n",
    "    trade = trade_df.iloc[index]\n",
    "    save_charts(trade, driver)\n",
    "    \n"
   ]
  },
  {
   "cell_type": "code",
   "execution_count": null,
   "metadata": {
    "collapsed": true
   },
   "outputs": [],
   "source": []
  }
 ],
 "metadata": {
  "kernelspec": {
   "display_name": "Python 3",
   "language": "python",
   "name": "python3"
  },
  "language_info": {
   "codemirror_mode": {
    "name": "ipython",
    "version": 3
   },
   "file_extension": ".py",
   "mimetype": "text/x-python",
   "name": "python",
   "nbconvert_exporter": "python",
   "pygments_lexer": "ipython3",
   "version": "3.5.1"
  }
 },
 "nbformat": 4,
 "nbformat_minor": 0
}

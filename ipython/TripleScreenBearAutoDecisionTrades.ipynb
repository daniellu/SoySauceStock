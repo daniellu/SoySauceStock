{
 "cells": [
  {
   "cell_type": "code",
   "execution_count": null,
   "metadata": {
    "collapsed": true
   },
   "outputs": [],
   "source": [
    "import pandas as pd\n",
    "import sys\n",
    "import os\n",
    "sys.path.append('..')\n",
    "from soysaucestock.stock_price_scraper import StockChartScraper\n",
    "from soysaucestock.stock_chart_backtester import StockChartTester, TradeResult\n",
    "from soysaucestock.technical_analyzer import TechnicalAnalyzer"
   ]
  },
  {
   "cell_type": "code",
   "execution_count": null,
   "metadata": {
    "collapsed": false
   },
   "outputs": [],
   "source": [
    "target_file = \"C:\\\\temp\\\\TradeConfig\\\\TripleScreenBear.csv\"\n",
    "#target_file = \"C:\\\\temp\\\\WorkingInProgress.csv\"\n",
    "df = pd.read_csv(target_file, parse_dates=True)\n",
    "df = df.sort_index(ascending=False)"
   ]
  },
  {
   "cell_type": "code",
   "execution_count": null,
   "metadata": {
    "collapsed": false
   },
   "outputs": [],
   "source": [
    "trade_df = pd.DataFrame()"
   ]
  },
  {
   "cell_type": "code",
   "execution_count": null,
   "metadata": {
    "collapsed": false
   },
   "outputs": [],
   "source": [
    "ticker_list = df.Ticker.tolist()"
   ]
  },
  {
   "cell_type": "code",
   "execution_count": null,
   "metadata": {
    "collapsed": true
   },
   "outputs": [],
   "source": [
    "#get all the stock price\n",
    "StockChartScraper.save_stocks(ticker_list)"
   ]
  },
  {
   "cell_type": "code",
   "execution_count": null,
   "metadata": {
    "collapsed": false
   },
   "outputs": [],
   "source": [
    "for i in range(0, len(ticker_list)):\n",
    "    ticker = df.ix[i].Ticker.replace('/','.')\n",
    "    start_date = df.ix[i].Date\n",
    "    \n",
    "    if not trade_df.empty and any(trade_df.EnterTicker == ticker) and trade_df.loc[trade_df.EnterTicker == ticker].ExitDate.max() > start_date:\n",
    "        continue;\n",
    "    \n",
    "    print(ticker + ' ' + start_date)\n",
    "    \n",
    "    # start the trading\n",
    "    trade = StockChartTester.process_macd_calc_short(ticker, start_date)\n",
    "    \n",
    "    # save trade\n",
    "    trade_df = trade_df.append(trade.todf(), ignore_index=True)"
   ]
  },
  {
   "cell_type": "code",
   "execution_count": null,
   "metadata": {
    "collapsed": false
   },
   "outputs": [],
   "source": [
    "# save all the trades info for further documentation\n",
    "# header = EnterDate,EnterDirection,EnterPrice,EnterTicker,ExitDate,ExitPrice,InitialStop,IsMissed,TargetPrice\n",
    "result_file = \"C:\\\\temp\\\\TradeConfig\\\\bear_trade_result.csv\"\n",
    "with open(result_file, 'a+') as f:\n",
    "    trade_df.to_csv(f, header=False, index=False)"
   ]
  },
  {
   "cell_type": "code",
   "execution_count": null,
   "metadata": {
    "collapsed": false
   },
   "outputs": [],
   "source": [
    "d = StockChartTester()\n",
    "for index in range(0, trade_df.EnterDate.size):\n",
    "    trade = trade_df.iloc[index].copy()\n",
    "    trade['EnterTicker'] = trade['EnterTicker'].replace('.','/').replace('/TO', '.TO')\n",
    "    d.save_chart(trade, dest='TripleScreenBear')"
   ]
  },
  {
   "cell_type": "code",
   "execution_count": null,
   "metadata": {
    "collapsed": false
   },
   "outputs": [],
   "source": [
    "not trade_df.empty "
   ]
  },
  {
   "cell_type": "code",
   "execution_count": null,
   "metadata": {
    "collapsed": false
   },
   "outputs": [],
   "source": [
    "# want to show any trade results\n",
    "#d = StockChartTester()\n",
    "#d.show_stock(a.enter_ticker, a.exit_date)"
   ]
  }
 ],
 "metadata": {
  "kernelspec": {
   "display_name": "Python 2",
   "language": "python",
   "name": "python2"
  },
  "language_info": {
   "codemirror_mode": {
    "name": "ipython",
    "version": 2
   },
   "file_extension": ".py",
   "mimetype": "text/x-python",
   "name": "python",
   "nbconvert_exporter": "python",
   "pygments_lexer": "ipython2",
   "version": "2.7.11"
  }
 },
 "nbformat": 4,
 "nbformat_minor": 0
}

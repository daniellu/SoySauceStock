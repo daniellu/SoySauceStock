{
 "cells": [
  {
   "cell_type": "code",
   "execution_count": 1,
   "metadata": {
    "collapsed": false
   },
   "outputs": [],
   "source": [
    "import json\n",
    "import os\n",
    "import sys\n",
    "import pandas as pd\n",
    "\n",
    "from selenium import webdriver\n",
    "from selenium.webdriver.support.ui import Select\n",
    "from selenium.webdriver.common.keys import Keys\n",
    "\n",
    "sys.path.append('..')\n",
    "from soysaucestock.stock_price_scraper import StockChartScraper\n",
    "from soysaucestock.stock_chart_backtester import StockChartTester, TradeResult\n",
    "from soysaucestock.technical_analyzer import TechnicalAnalyzer"
   ]
  },
  {
   "cell_type": "code",
   "execution_count": 2,
   "metadata": {
    "collapsed": true
   },
   "outputs": [],
   "source": [
    "class ScanResult(object):\n",
    "    def __init__(self, date_str, ticker, close, volume):\n",
    "        self.date_str = date_str\n",
    "        self.ticker = ticker\n",
    "        self.close = close\n",
    "        self.volume = volume\n",
    "    def tostring(self):\n",
    "        return str.format(\"{0},{1}\", self.date_str, self.ticker)"
   ]
  },
  {
   "cell_type": "code",
   "execution_count": 3,
   "metadata": {
    "collapsed": true
   },
   "outputs": [],
   "source": [
    "def get_scan_result(driver, date_pd, date_range):\n",
    "    driver.implicitly_wait(2)\n",
    "    result = []\n",
    "    for date_index in date_range:\n",
    "        driver.find_element_by_id('globalDateOffset').send_keys(Keys.CONTROL + 'a' + Keys.NULL, str(date_index))\n",
    "        parent_handle = driver.window_handles[0]\n",
    "        driver.find_element_by_css_selector('input[value=\"Run Scan\"]').click()\n",
    "        result_handle = driver.window_handles[1]\n",
    "        driver.switch_to_window(result_handle)\n",
    "        trs = driver.find_elements_by_xpath(\"//table[@id='scc-scans-resultstable']/tbody/tr\")\n",
    "        for result_index in range(0, len(trs)):\n",
    "            tr = trs[result_index]\n",
    "            tr_list = tr.text.split(' ')\n",
    "            scan_result = ScanResult(date_str=date_pd.index[date_index+1], ticker=tr_list[0], close=tr_list[-2], volume=tr_list[-1])\n",
    "            result.append(scan_result)\n",
    "        driver.switch_to_window(parent_handle)\n",
    "    driver.implicitly_wait(10)\n",
    "    return result"
   ]
  },
  {
   "cell_type": "code",
   "execution_count": 4,
   "metadata": {
    "collapsed": true
   },
   "outputs": [],
   "source": [
    "StockChartScraper.save_stocks('RY.TO', is_lazy_save=False)"
   ]
  },
  {
   "cell_type": "code",
   "execution_count": 5,
   "metadata": {
    "collapsed": false
   },
   "outputs": [],
   "source": [
    "driver = webdriver.Firefox()\n",
    "driver.implicitly_wait(10) # seconds\n",
    "driver.get(\"http://stockcharts.com\")"
   ]
  },
  {
   "cell_type": "code",
   "execution_count": 6,
   "metadata": {
    "collapsed": false
   },
   "outputs": [],
   "source": [
    "account_json = 'C:\\\\Tools\\\\stockchart.json'\n",
    "with open(account_json) as data_file:    \n",
    "    account_info = json.load(data_file)\n",
    "driver.find_element_by_link_text('Login').click()\n",
    "driver.find_element_by_id('form_UserID').send_keys(account_info['user_name'])\n",
    "driver.find_element_by_name('form_UserPassword').send_keys(account_info['password'])\n",
    "driver.find_element_by_id('loginbutton').submit()"
   ]
  },
  {
   "cell_type": "code",
   "execution_count": 7,
   "metadata": {
    "collapsed": false
   },
   "outputs": [],
   "source": [
    "driver.find_element_by_name('button_GoScanDef').click()\n",
    "select = Select(driver.find_element_by_id('favScans'))\n",
    "select.select_by_visible_text('Daily Bear Down')\n"
   ]
  },
  {
   "cell_type": "code",
   "execution_count": 8,
   "metadata": {
    "collapsed": false
   },
   "outputs": [],
   "source": [
    "date_mapping = 'C:\\\\temp\\\\RY.TO.csv'\n",
    "date_pd = pd.read_csv(date_mapping, parse_dates=False, index_col=0)\n"
   ]
  },
  {
   "cell_type": "code",
   "execution_count": 9,
   "metadata": {
    "collapsed": false
   },
   "outputs": [],
   "source": [
    "date_pd = date_pd.sort_index(ascending=False)"
   ]
  },
  {
   "cell_type": "code",
   "execution_count": null,
   "metadata": {
    "collapsed": true
   },
   "outputs": [],
   "source": []
  },
  {
   "cell_type": "code",
   "execution_count": 10,
   "metadata": {
    "collapsed": false
   },
   "outputs": [],
   "source": [
    "result = get_scan_result(driver, date_pd, range(0, 200))"
   ]
  },
  {
   "cell_type": "code",
   "execution_count": 11,
   "metadata": {
    "collapsed": false
   },
   "outputs": [],
   "source": [
    "target_path = 'C:\\\\temp\\\\ForceIndexBear.csv'\n",
    "\n",
    "with open(target_path, 'w') as f:\n",
    "    f.write('Date,Ticker\\n')\n",
    "    for item in result:\n",
    "        f.write(item.tostring() +'\\n')"
   ]
  },
  {
   "cell_type": "code",
   "execution_count": 12,
   "metadata": {
    "collapsed": true
   },
   "outputs": [],
   "source": [
    "select = Select(driver.find_element_by_id('favScans'))\n",
    "select.select_by_visible_text('Daily Bull Up')"
   ]
  },
  {
   "cell_type": "code",
   "execution_count": 13,
   "metadata": {
    "collapsed": true
   },
   "outputs": [],
   "source": [
    "result = get_scan_result(driver, date_pd, range(0, 200))"
   ]
  },
  {
   "cell_type": "code",
   "execution_count": 14,
   "metadata": {
    "collapsed": false
   },
   "outputs": [],
   "source": [
    "target_path = 'C:\\\\temp\\\\ForceIndexBull.csv'\n",
    "with open(target_path, 'w') as f:\n",
    "    f.write('Date,Ticker\\n')\n",
    "    for item in result:\n",
    "        f.write(item.tostring() +'\\n')"
   ]
  },
  {
   "cell_type": "code",
   "execution_count": null,
   "metadata": {
    "collapsed": true
   },
   "outputs": [],
   "source": []
  },
  {
   "cell_type": "code",
   "execution_count": null,
   "metadata": {
    "collapsed": true
   },
   "outputs": [],
   "source": []
  },
  {
   "cell_type": "code",
   "execution_count": null,
   "metadata": {
    "collapsed": true
   },
   "outputs": [],
   "source": []
  },
  {
   "cell_type": "code",
   "execution_count": null,
   "metadata": {
    "collapsed": true
   },
   "outputs": [],
   "source": []
  }
 ],
 "metadata": {
  "kernelspec": {
   "display_name": "Python 2",
   "language": "python",
   "name": "python2"
  },
  "language_info": {
   "codemirror_mode": {
    "name": "ipython",
    "version": 2
   },
   "file_extension": ".py",
   "mimetype": "text/x-python",
   "name": "python",
   "nbconvert_exporter": "python",
   "pygments_lexer": "ipython2",
   "version": "2.7.11"
  }
 },
 "nbformat": 4,
 "nbformat_minor": 0
}

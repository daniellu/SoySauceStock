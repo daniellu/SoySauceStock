{
 "cells": [
  {
   "cell_type": "code",
   "execution_count": 1,
   "metadata": {
    "collapsed": true
   },
   "outputs": [],
   "source": [
    "import json\n",
    "import os\n",
    "import sys\n",
    "import pandas as pd\n",
    "\n",
    "sys.path.append('..')\n",
    "from soysaucestock.stock_price_scraper import StockChartScraper\n",
    "from soysaucestock.stock_chart_backtester import StockChartTester, TradeResult\n",
    "from soysaucestock.technical_analyzer import TechnicalAnalyzer"
   ]
  },
  {
   "cell_type": "code",
   "execution_count": 2,
   "metadata": {
    "collapsed": true
   },
   "outputs": [],
   "source": [
    "sct = StockChartTester()\n",
    "trade_list = 'C:\\\\temp\\\\ForceIndexBear.csv'\n",
    "trade_pd = pd.read_csv(trade_list, parse_dates=False, index_col=0)"
   ]
  },
  {
   "cell_type": "code",
   "execution_count": 73,
   "metadata": {
    "collapsed": false
   },
   "outputs": [
    {
     "name": "stdout",
     "output_type": "stream",
     "text": [
      "2015-09-30 VSN.TO\n"
     ]
    }
   ],
   "source": [
    "index = 207\n",
    "trade_date = trade_pd.index[index]\n",
    "ticker = trade_pd.ix[index].Ticker\n",
    "\n",
    "StockChartScraper.save_stocks(ticker, is_lazy_save=True)\n",
    "print(trade_date + ' ' + ticker)"
   ]
  },
  {
   "cell_type": "code",
   "execution_count": 74,
   "metadata": {
    "collapsed": true
   },
   "outputs": [],
   "source": [
    "ticker_saved = ticker.replace('/','-')\n",
    "price_dest = 'C:\\\\temp\\\\'+ticker_saved + '.csv'\n",
    "price_df = pd.read_csv(price_dest, parse_dates=False, index_col=0)\n",
    "curr_date_index = price_df.index.get_loc(trade_date)\n",
    "trade_date_next = price_df.index[curr_date_index + 1]"
   ]
  },
  {
   "cell_type": "code",
   "execution_count": 75,
   "metadata": {
    "collapsed": false
   },
   "outputs": [],
   "source": [
    "william_r = TechnicalAnalyzer.williams_r(price_df)\n",
    "force_index_13 = TechnicalAnalyzer.force_index(price_df, period=13)\n",
    "force_index_2 = TechnicalAnalyzer.force_index(price_df, period=2)"
   ]
  },
  {
   "cell_type": "code",
   "execution_count": 76,
   "metadata": {
    "collapsed": false
   },
   "outputs": [
    {
     "data": {
      "text/plain": [
       "Date\n",
       "2015-09-24   -97.630332\n",
       "2015-09-25   -91.943128\n",
       "2015-09-28   -91.866029\n",
       "2015-09-29   -95.769231\n",
       "2015-09-30   -84.426230\n",
       "dtype: float64"
      ]
     },
     "execution_count": 76,
     "metadata": {},
     "output_type": "execute_result"
    }
   ],
   "source": [
    "william_r.ix[:trade_date].tail(5)"
   ]
  },
  {
   "cell_type": "code",
   "execution_count": 77,
   "metadata": {
    "collapsed": false
   },
   "outputs": [
    {
     "data": {
      "text/plain": [
       "Date\n",
       "2015-09-24   -247194.945930\n",
       "2015-09-25   -177969.296511\n",
       "2015-09-28   -159629.575581\n",
       "2015-09-29   -372106.513355\n",
       "2015-09-30   -169226.647162\n",
       "dtype: float64"
      ]
     },
     "execution_count": 77,
     "metadata": {},
     "output_type": "execute_result"
    }
   ],
   "source": [
    "force_index_13.ix[:trade_date].tail(5)"
   ]
  },
  {
   "cell_type": "code",
   "execution_count": 78,
   "metadata": {
    "collapsed": false
   },
   "outputs": [
    {
     "data": {
      "text/plain": [
       "Date\n",
       "2015-09-24   -1013748.122971\n",
       "2015-09-25    -179659.640990\n",
       "2015-09-28     -92947.380330\n",
       "2015-09-29   -1128961.220110\n",
       "2015-09-30     322381.293297\n",
       "dtype: float64"
      ]
     },
     "execution_count": 78,
     "metadata": {},
     "output_type": "execute_result"
    }
   ],
   "source": [
    "force_index_2.ix[:trade_date].tail(5)"
   ]
  },
  {
   "cell_type": "code",
   "execution_count": 79,
   "metadata": {
    "collapsed": true
   },
   "outputs": [],
   "source": [
    "sct.show_stock(ticker, trade_date)"
   ]
  },
  {
   "cell_type": "code",
   "execution_count": null,
   "metadata": {
    "collapsed": true
   },
   "outputs": [],
   "source": []
  }
 ],
 "metadata": {
  "kernelspec": {
   "display_name": "Python 2",
   "language": "python",
   "name": "python2"
  },
  "language_info": {
   "codemirror_mode": {
    "name": "ipython",
    "version": 2
   },
   "file_extension": ".py",
   "mimetype": "text/x-python",
   "name": "python",
   "nbconvert_exporter": "python",
   "pygments_lexer": "ipython2",
   "version": "2.7.11"
  }
 },
 "nbformat": 4,
 "nbformat_minor": 0
}

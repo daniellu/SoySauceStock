{
 "cells": [
  {
   "cell_type": "code",
   "execution_count": 6,
   "metadata": {
    "collapsed": true
   },
   "outputs": [],
   "source": [
    "import pandas as pd\n",
    "import sys\n",
    "import os\n",
    "sys.path.append('..')\n",
    "from soysaucestock.stock_price_scraper import StockChartScraper\n",
    "from soysaucestock.stock_chart_backtester import StockChartTester, TradeResult\n",
    "from soysaucestock.technical_analyzer import TechnicalAnalyzer"
   ]
  },
  {
   "cell_type": "code",
   "execution_count": 7,
   "metadata": {
    "collapsed": false
   },
   "outputs": [],
   "source": [
    "target_file = \"C:\\\\temp\\\\TradeConfig\\\\TripleScreenBull.csv\"\n",
    "#target_file = \"C:\\\\temp\\\\WorkingInProgress.csv\"\n",
    "df = pd.read_csv(target_file, parse_dates=True)\n",
    "df = df.sort_index(ascending=False)"
   ]
  },
  {
   "cell_type": "code",
   "execution_count": 8,
   "metadata": {
    "collapsed": false
   },
   "outputs": [],
   "source": [
    "trade_df = pd.DataFrame()"
   ]
  },
  {
   "cell_type": "code",
   "execution_count": 9,
   "metadata": {
    "collapsed": false
   },
   "outputs": [],
   "source": [
    "ticker_list = df.Ticker.tolist()"
   ]
  },
  {
   "cell_type": "code",
   "execution_count": 10,
   "metadata": {
    "collapsed": true
   },
   "outputs": [],
   "source": [
    "#get all the stock price\n",
    "StockChartScraper.save_stocks(ticker_list)"
   ]
  },
  {
   "cell_type": "code",
   "execution_count": 11,
   "metadata": {
    "collapsed": false
   },
   "outputs": [
    {
     "name": "stdout",
     "output_type": "stream",
     "text": [
      "EMA.TO 2016-02-29\n",
      "G.TO 2016-02-26\n",
      "HVU.TO 2016-02-25\n",
      "TCL.A.TO 2016-02-11\n",
      "CAR.UN.TO 2016-02-10\n",
      "BIN.TO 2016-02-09\n",
      "HSD.TO 2016-02-04\n",
      "HOD.TO 2016-02-03\n",
      "DLR.TO 2016-01-29\n",
      "HXD.TO 2016-01-28\n",
      "CAS.TO 2016-01-25\n",
      "EDV.TO 2016-01-19\n",
      "STN.TO 2015-12-14\n",
      "GIB.A.TO 2015-12-11\n",
      "CTC.A.TO 2015-12-09\n",
      "ITP.TO 2015-12-09\n",
      "POW.TO 2015-12-07\n",
      "ZZZ.TO 2015-12-04\n",
      "HPR.TO 2015-11-23\n",
      "DRT.TO 2015-11-18\n",
      "MST.UN.TO 2015-11-16\n",
      "RCI.B.TO 2015-11-13\n",
      "SU.TO 2015-11-13\n",
      "BMO.TO 2015-11-12\n",
      "FCR.TO 2015-11-12\n",
      "JE.TO 2015-11-11\n",
      "ABX.TO 2015-11-06\n",
      "AX.UN.TO 2015-11-06\n",
      "BCE.TO 2015-11-05\n",
      "FNV.TO 2015-11-05\n",
      "CG.TO 2015-11-04\n",
      "SAP.TO 2015-11-02\n",
      "HGU.TO 2015-10-30\n",
      "SNC.TO 2015-10-30\n",
      "NPI.TO 2015-10-28\n",
      "PVG.TO 2015-10-28\n",
      "WSP.TO 2015-10-28\n",
      "MEG.TO 2015-10-26\n",
      "FRU.TO 2015-10-21\n",
      "HCG.TO 2015-10-16\n",
      "HED.TO 2015-09-08\n",
      "ZFM.TO 2015-09-01\n",
      "IFC.TO 2015-08-21\n",
      "L.TO 2015-08-21\n",
      "TIH.TO 2015-08-21\n",
      "ATD.B.TO 2015-08-20\n",
      "BCB.TO 2015-08-20\n",
      "CLS.TO 2015-08-20\n",
      "TRI.TO 2015-08-20\n",
      "HGD.TO 2015-08-10\n",
      "CXR.TO 2015-08-06\n",
      "CBO.TO 2015-07-29\n",
      "AAV.TO 2015-07-16\n",
      "MAG.TO 2015-07-09\n",
      "DGC.TO 2015-07-07\n",
      "SLF.TO 2015-06-29\n",
      "ATA.TO 2015-06-26\n",
      "CEU.TO 2015-06-26\n",
      "GXO.TO 2015-06-26\n",
      "OSB.TO 2015-06-26\n",
      "AC.TO 2015-06-19\n",
      "MBT.TO 2015-06-19\n",
      "RBA.TO 2015-06-19\n",
      "AIM.TO 2015-06-18\n",
      "MG.TO 2015-06-17\n",
      "IT.TO 2015-06-16\n",
      "KGI.TO 2015-06-10\n",
      "FIH.U.TO 2015-06-05\n",
      "HOU.TO 2015-05-27\n",
      "ZPR.TO 2015-05-25\n",
      "DDC.TO 2015-05-21\n",
      "BIR.TO 2015-05-20\n",
      "ECA.TO 2015-05-20\n",
      "LUN.TO 2015-05-20\n",
      "CJ.TO 2015-05-11\n",
      "KEL.TO 2015-05-11\n",
      "D.UN.TO 2015-05-08\n",
      "TET.TO 2015-05-08\n",
      "RRX.TO 2015-05-07\n",
      "BNE.TO 2015-05-06\n",
      "BNP.TO 2015-05-06\n",
      "CFW.TO 2015-05-06\n",
      "NHC.TO 2015-05-06\n",
      "WJA.TO 2015-05-06\n",
      "CPG.TO 2015-05-05\n",
      "ERF.TO 2015-05-05\n",
      "TOU.TO 2015-05-05\n",
      "VSN.TO 2015-05-05\n",
      "XEG.TO 2015-05-05\n",
      "TA.TO 2015-05-04\n",
      "IMO.TO 2015-05-01\n",
      "ENB.TO 2015-04-30\n",
      "GIL.TO 2015-04-30\n",
      "ZHY.TO 2015-04-29\n",
      "KEY.TO 2015-04-28\n",
      "ESI.TO 2015-04-24\n",
      "RON.TO 2015-04-24\n",
      "DOL.TO 2015-04-21\n",
      "ECI.TO 2015-04-17\n",
      "MX.TO 2015-04-02\n",
      "CIX.TO 2015-04-01\n",
      "MRU.TO 2015-03-30\n",
      "AGU.TO 2015-03-25\n",
      "BAM.A.TO 2015-03-25\n",
      "CP.TO 2015-03-25\n",
      "QSR.TO 2015-03-19\n",
      "GUD.TO 2015-03-13\n",
      "EMP.A.TO 2015-03-11\n",
      "MFI.TO 2015-03-06\n",
      "GWO.TO 2015-03-05\n",
      "PWF.TO 2015-03-05\n",
      "CUF.UN.TO 2015-03-04\n",
      "BPY.UN.TO 2015-03-03\n",
      "CNR.TO 2015-03-03\n",
      "PXT.TO 2015-03-02\n",
      "POT.TO 2015-02-25\n",
      "POU.TO 2015-02-23\n",
      "SRU.UN.TO 2015-02-19\n",
      "PGL.TO 2015-02-18\n",
      "PAA.TO 2015-02-17\n",
      "XRE.TO 2015-02-17\n",
      "ZCM.TO 2015-02-17\n",
      "FR.TO 2015-02-12\n",
      "AEM.TO 2015-02-10\n",
      "SLW.TO 2015-02-06\n",
      "XGD.TO 2015-02-06\n",
      "WFT.TO 2015-01-15\n",
      "FTS.TO 2014-12-19\n",
      "IAG.TO 2014-12-09\n",
      "AQN.TO 2014-12-08\n",
      "MIC.TO 2014-12-05\n",
      "T.TO 2014-12-03\n",
      "PJC.A.TO 2014-12-02\n",
      "CFP.TO 2014-11-26\n",
      "DHX.B.TO 2014-11-26\n",
      "BB.TO 2014-11-21\n",
      "XBB.TO 2014-10-30\n",
      "XSB.TO 2014-10-29\n",
      "PKI.TO 2014-10-09\n",
      "TRP.TO 2014-09-29\n",
      "U.TO 2014-09-25\n",
      "OTC.TO 2014-09-24\n",
      "QBR.B.TO 2014-09-24\n",
      "CM.TO 2014-09-23\n",
      "GEI.TO 2014-09-23\n",
      "IPL.TO 2014-09-23\n",
      "NA.TO 2014-09-23\n",
      "ZEB.TO 2014-09-22\n",
      "SES.TO 2014-09-19\n",
      "TVE.TO 2014-09-17\n",
      "EXE.TO 2014-09-15\n",
      "ALA.TO 2014-09-10\n",
      "CSH.UN.TO 2014-09-09\n",
      "ELD.TO 2014-09-03\n",
      "EDR.TO 2014-08-14\n",
      "MFC.TO 2014-08-13\n",
      "RY.TO 2014-08-08\n",
      "TD.TO 2014-08-08\n",
      "XFN.TO 2014-08-08\n",
      "DHX.A.TO 2014-08-07\n",
      "TCK.B.TO 2014-08-07\n",
      "BNS.TO 2014-08-06\n",
      "FM.TO 2014-08-05\n",
      "AGI.TO 2014-07-25\n",
      "FVI.TO 2014-07-24\n",
      "SSO.TO 2014-07-24\n",
      "AYA.TO 2014-07-17\n",
      "NGD.TO 2014-07-15\n",
      "CF.TO 2014-07-14\n",
      "BTE.TO 2014-07-10\n",
      "CRR.UN.TO 2014-07-09\n",
      "LTS.TO 2014-07-09\n",
      "PPY.TO 2014-07-09\n",
      "SRX.V 2014-07-09\n",
      "WCP.TO 2014-07-07\n",
      "VET.TO 2014-07-04\n",
      "TOG.TO 2014-06-30\n",
      "HFR.TO 2014-06-18\n",
      "RKN.TO 2014-06-16\n",
      "PPL.TO 2014-05-30\n",
      "PSI.TO 2014-05-20\n",
      "TCW.TO 2014-05-16\n",
      "BXE.TO 2014-05-15\n",
      "SVY.TO 2014-05-15\n",
      "CNE.TO 2014-05-14\n",
      "PWT.TO 2014-05-09\n",
      "MRE.TO 2014-05-08\n",
      "CVE.TO 2014-05-07\n",
      "REI.UN.TO 2014-05-06\n",
      "NVA.TO 2014-05-05\n",
      "SPB.TO 2014-05-01\n",
      "AGF.B.TO 2014-04-30\n",
      "PRE.TO 2014-04-23\n",
      "DH.TO 2014-04-15\n",
      "CCO.TO 2014-03-31\n",
      "HBC.TO 2014-03-26\n",
      "HXT.TO 2014-03-26\n",
      "THO.TO 2014-03-26\n",
      "BEP.UN.TO 2014-03-25\n",
      "DRG.UN.TO 2014-03-20\n",
      "CAE.TO 2014-03-14\n",
      "PD.TO 2014-03-14\n",
      "CNQ.TO 2014-03-13\n",
      "RMP.TO 2014-03-13\n",
      "CR.TO 2014-03-12\n",
      "ARX.TO 2014-03-11\n",
      "PEY.TO 2014-03-11\n",
      "HNU.TO 2014-02-10\n",
      "YRI.TO 2014-02-06\n",
      "WRG.TO 2014-02-03\n",
      "HBM.TO 2014-01-31\n",
      "AVO.TO 2014-01-27\n",
      "CHE.UN.TO 2014-01-27\n",
      "INE.TO 2014-01-27\n",
      "HSE.TO 2014-01-24\n",
      "CWB.TO 2014-01-22\n",
      "FRC.TO 2014-01-13\n",
      "FTT.TO 2014-01-13\n",
      "CPD.TO 2013-12-13\n",
      "EFN.TO 2013-12-11\n",
      "TCN.TO 2013-12-02\n",
      "EIT.UN.TO 2013-11-25\n",
      "CU.TO 2013-11-13\n",
      "SGY.TO 2013-11-11\n",
      "PGF.TO 2013-11-07\n",
      "TGL.TO 2013-11-07\n",
      "AOI.TO 2013-11-05\n",
      "AP.UN.TO 2013-11-05\n"
     ]
    }
   ],
   "source": [
    "for i in range(0, len(ticker_list)):\n",
    "    ticker = df.ix[i].Ticker.replace('/','.')\n",
    "    start_date = df.ix[i].Date\n",
    "    \n",
    "    if not trade_df.empty and any(trade_df.EnterTicker == ticker) and trade_df.loc[trade_df.EnterTicker == ticker].ExitDate.max() > start_date:\n",
    "        continue;\n",
    "        \n",
    "    # start the trading\n",
    "    trade = StockChartTester.process_macd_calc_long(ticker, start_date)\n",
    "    \n",
    "    # save trade\n",
    "    trade_df = trade_df.append(trade.todf(), ignore_index=True)\n",
    "    \n",
    "    print(ticker + ' ' + start_date)"
   ]
  },
  {
   "cell_type": "code",
   "execution_count": 12,
   "metadata": {
    "collapsed": false
   },
   "outputs": [],
   "source": [
    "# save all the trades info for further documentation\n",
    "# header = EnterDate,EnterDirection,EnterPrice,EnterTicker,ExitDate,ExitPrice,InitialStop,IsMissed,TargetPrice\n",
    "result_file = \"C:\\\\temp\\\\TradeConfig\\\\bull_trade_result.csv\"\n",
    "with open(result_file, 'a+') as f:\n",
    "    trade_df.to_csv(f, header=False, index=False)"
   ]
  },
  {
   "cell_type": "code",
   "execution_count": 34,
   "metadata": {
    "collapsed": false
   },
   "outputs": [
    {
     "ename": "NoSuchElementException",
     "evalue": "Message: Unable to locate element: {\"method\":\"id\",\"selector\":\"dataRange\"}\nStacktrace:\n    at FirefoxDriver.prototype.findElementInternal_ (file:///C:/Users/boyuh/AppData/Local/Temp/tmp5im_4b8b/extensions/fxdriver@googlecode.com/components/driver-component.js:10723)\n    at fxdriver.Timer.prototype.setTimeout/<.notify (file:///C:/Users/boyuh/AppData/Local/Temp/tmp5im_4b8b/extensions/fxdriver@googlecode.com/components/driver-component.js:623)",
     "output_type": "error",
     "traceback": [
      "\u001b[1;31m---------------------------------------------------------------------------\u001b[0m",
      "\u001b[1;31mNoSuchElementException\u001b[0m                    Traceback (most recent call last)",
      "\u001b[1;32m<ipython-input-34-d9a545674407>\u001b[0m in \u001b[0;36m<module>\u001b[1;34m()\u001b[0m\n\u001b[0;32m      3\u001b[0m     \u001b[0mtrade\u001b[0m \u001b[1;33m=\u001b[0m \u001b[0mtrade_df\u001b[0m\u001b[1;33m.\u001b[0m\u001b[0miloc\u001b[0m\u001b[1;33m[\u001b[0m\u001b[0mindex\u001b[0m\u001b[1;33m]\u001b[0m\u001b[1;33m.\u001b[0m\u001b[0mcopy\u001b[0m\u001b[1;33m(\u001b[0m\u001b[1;33m)\u001b[0m\u001b[1;33m\u001b[0m\u001b[0m\n\u001b[0;32m      4\u001b[0m     \u001b[0mtrade\u001b[0m\u001b[1;33m[\u001b[0m\u001b[1;34m'EnterTicker'\u001b[0m\u001b[1;33m]\u001b[0m \u001b[1;33m=\u001b[0m \u001b[0mtrade\u001b[0m\u001b[1;33m[\u001b[0m\u001b[1;34m'EnterTicker'\u001b[0m\u001b[1;33m]\u001b[0m\u001b[1;33m.\u001b[0m\u001b[0mreplace\u001b[0m\u001b[1;33m(\u001b[0m\u001b[1;34m'.'\u001b[0m\u001b[1;33m,\u001b[0m\u001b[1;34m'/'\u001b[0m\u001b[1;33m)\u001b[0m\u001b[1;33m.\u001b[0m\u001b[0mreplace\u001b[0m\u001b[1;33m(\u001b[0m\u001b[1;34m'/TO'\u001b[0m\u001b[1;33m,\u001b[0m \u001b[1;34m'.TO'\u001b[0m\u001b[1;33m)\u001b[0m\u001b[1;33m\u001b[0m\u001b[0m\n\u001b[1;32m----> 5\u001b[1;33m     \u001b[0md\u001b[0m\u001b[1;33m.\u001b[0m\u001b[0msave_chart\u001b[0m\u001b[1;33m(\u001b[0m\u001b[0mtrade\u001b[0m\u001b[1;33m,\u001b[0m \u001b[0mdest\u001b[0m\u001b[1;33m=\u001b[0m\u001b[1;34m'TripleScreenBull'\u001b[0m\u001b[1;33m)\u001b[0m\u001b[1;33m\u001b[0m\u001b[0m\n\u001b[0m",
      "\u001b[1;32mI:\\Projects\\SoySauceStock\\soysaucestock\\stock_chart_backtester.py\u001b[0m in \u001b[0;36msave_chart\u001b[1;34m(self, trade, dest)\u001b[0m\n\u001b[0;32m     66\u001b[0m         \u001b[0mp30_one_year_back\u001b[0m \u001b[1;33m=\u001b[0m \u001b[0madd_years\u001b[0m\u001b[1;33m(\u001b[0m\u001b[0mp30_period\u001b[0m\u001b[1;33m,\u001b[0m \u001b[1;33m-\u001b[0m\u001b[1;36m1\u001b[0m\u001b[1;33m)\u001b[0m\u001b[1;33m\u001b[0m\u001b[0m\n\u001b[0;32m     67\u001b[0m         \u001b[0mp30_file_name\u001b[0m \u001b[1;33m=\u001b[0m \u001b[0mos\u001b[0m\u001b[1;33m.\u001b[0m\u001b[0mpath\u001b[0m\u001b[1;33m.\u001b[0m\u001b[0mjoin\u001b[0m\u001b[1;33m(\u001b[0m\u001b[0mdest\u001b[0m\u001b[1;33m,\u001b[0m \u001b[0mstr\u001b[0m\u001b[1;33m.\u001b[0m\u001b[0mformat\u001b[0m\u001b[1;33m(\u001b[0m\u001b[1;34m'{0}_{1}_Exit_p30.png'\u001b[0m\u001b[1;33m,\u001b[0m \u001b[0mfile_period_name\u001b[0m\u001b[1;33m,\u001b[0m \u001b[0mticker\u001b[0m\u001b[1;33m.\u001b[0m\u001b[0mreplace\u001b[0m\u001b[1;33m(\u001b[0m\u001b[1;34m'/'\u001b[0m\u001b[1;33m,\u001b[0m \u001b[1;34m'.'\u001b[0m\u001b[1;33m)\u001b[0m\u001b[1;33m)\u001b[0m\u001b[1;33m)\u001b[0m\u001b[1;33m\u001b[0m\u001b[0m\n\u001b[1;32m---> 68\u001b[1;33m         \u001b[0mself\u001b[0m\u001b[1;33m.\u001b[0m\u001b[0msave_pic\u001b[0m\u001b[1;33m(\u001b[0m\u001b[0mticker\u001b[0m\u001b[1;33m,\u001b[0m \u001b[0menter_one_year_back\u001b[0m\u001b[1;33m,\u001b[0m \u001b[0menter_period\u001b[0m\u001b[1;33m,\u001b[0m \u001b[0menter_file_name\u001b[0m\u001b[1;33m)\u001b[0m\u001b[1;33m\u001b[0m\u001b[0m\n\u001b[0m\u001b[0;32m     69\u001b[0m         \u001b[0mself\u001b[0m\u001b[1;33m.\u001b[0m\u001b[0msave_pic\u001b[0m\u001b[1;33m(\u001b[0m\u001b[0mticker\u001b[0m\u001b[1;33m,\u001b[0m \u001b[0mexit_one_year_back\u001b[0m\u001b[1;33m,\u001b[0m \u001b[0mexit_period\u001b[0m\u001b[1;33m,\u001b[0m \u001b[0mexit_file_name\u001b[0m\u001b[1;33m)\u001b[0m\u001b[1;33m\u001b[0m\u001b[0m\n\u001b[0;32m     70\u001b[0m         \u001b[0mself\u001b[0m\u001b[1;33m.\u001b[0m\u001b[0msave_pic\u001b[0m\u001b[1;33m(\u001b[0m\u001b[0mticker\u001b[0m\u001b[1;33m,\u001b[0m \u001b[0mp10_one_year_back\u001b[0m\u001b[1;33m,\u001b[0m \u001b[0mp10_period\u001b[0m\u001b[1;33m,\u001b[0m \u001b[0mp10_file_name\u001b[0m\u001b[1;33m)\u001b[0m\u001b[1;33m\u001b[0m\u001b[0m\n",
      "\u001b[1;32mI:\\Projects\\SoySauceStock\\soysaucestock\\stock_chart_backtester.py\u001b[0m in \u001b[0;36msave_pic\u001b[1;34m(self, ticker, start_date, end_date, file_name)\u001b[0m\n\u001b[0;32m     74\u001b[0m         \u001b[0mself\u001b[0m\u001b[1;33m.\u001b[0m\u001b[0mdriver\u001b[0m\u001b[1;33m.\u001b[0m\u001b[0mfind_element_by_id\u001b[0m\u001b[1;33m(\u001b[0m\u001b[1;34m'navsearchtext'\u001b[0m\u001b[1;33m)\u001b[0m\u001b[1;33m.\u001b[0m\u001b[0msend_keys\u001b[0m\u001b[1;33m(\u001b[0m\u001b[0mKeys\u001b[0m\u001b[1;33m.\u001b[0m\u001b[0mCONTROL\u001b[0m \u001b[1;33m+\u001b[0m \u001b[1;34m'a'\u001b[0m \u001b[1;33m+\u001b[0m \u001b[0mKeys\u001b[0m\u001b[1;33m.\u001b[0m\u001b[0mNULL\u001b[0m\u001b[1;33m,\u001b[0m \u001b[0mticker\u001b[0m\u001b[1;33m)\u001b[0m\u001b[1;33m\u001b[0m\u001b[0m\n\u001b[0;32m     75\u001b[0m         \u001b[0mself\u001b[0m\u001b[1;33m.\u001b[0m\u001b[0mdriver\u001b[0m\u001b[1;33m.\u001b[0m\u001b[0mfind_element_by_id\u001b[0m\u001b[1;33m(\u001b[0m\u001b[1;34m'navsearchbutton'\u001b[0m\u001b[1;33m)\u001b[0m\u001b[1;33m.\u001b[0m\u001b[0mclick\u001b[0m\u001b[1;33m(\u001b[0m\u001b[1;33m)\u001b[0m\u001b[1;33m\u001b[0m\u001b[0m\n\u001b[1;32m---> 76\u001b[1;33m         \u001b[0mselect\u001b[0m \u001b[1;33m=\u001b[0m \u001b[0mSelect\u001b[0m\u001b[1;33m(\u001b[0m\u001b[0mself\u001b[0m\u001b[1;33m.\u001b[0m\u001b[0mdriver\u001b[0m\u001b[1;33m.\u001b[0m\u001b[0mfind_element_by_id\u001b[0m\u001b[1;33m(\u001b[0m\u001b[1;34m'dataRange'\u001b[0m\u001b[1;33m)\u001b[0m\u001b[1;33m)\u001b[0m\u001b[1;33m\u001b[0m\u001b[0m\n\u001b[0m\u001b[0;32m     77\u001b[0m         \u001b[0mselect\u001b[0m\u001b[1;33m.\u001b[0m\u001b[0mselect_by_visible_text\u001b[0m\u001b[1;33m(\u001b[0m\u001b[1;34m'Select Start/End'\u001b[0m\u001b[1;33m)\u001b[0m\u001b[1;33m\u001b[0m\u001b[0m\n\u001b[0;32m     78\u001b[0m         \u001b[0mself\u001b[0m\u001b[1;33m.\u001b[0m\u001b[0mdriver\u001b[0m\u001b[1;33m.\u001b[0m\u001b[0mfind_element_by_id\u001b[0m\u001b[1;33m(\u001b[0m\u001b[1;34m'start'\u001b[0m\u001b[1;33m)\u001b[0m\u001b[1;33m.\u001b[0m\u001b[0msend_keys\u001b[0m\u001b[1;33m(\u001b[0m\u001b[0mKeys\u001b[0m\u001b[1;33m.\u001b[0m\u001b[0mCONTROL\u001b[0m \u001b[1;33m+\u001b[0m \u001b[1;34m'a'\u001b[0m \u001b[1;33m+\u001b[0m \u001b[0mKeys\u001b[0m\u001b[1;33m.\u001b[0m\u001b[0mNULL\u001b[0m\u001b[1;33m,\u001b[0m \u001b[0mstart_date\u001b[0m\u001b[1;33m)\u001b[0m\u001b[1;33m\u001b[0m\u001b[0m\n",
      "\u001b[1;32mC:\\Anaconda3\\lib\\site-packages\\selenium\\webdriver\\remote\\webdriver.py\u001b[0m in \u001b[0;36mfind_element_by_id\u001b[1;34m(self, id_)\u001b[0m\n\u001b[0;32m    232\u001b[0m             \u001b[0mdriver\u001b[0m\u001b[1;33m.\u001b[0m\u001b[0mfind_element_by_id\u001b[0m\u001b[1;33m(\u001b[0m\u001b[1;34m'foo'\u001b[0m\u001b[1;33m)\u001b[0m\u001b[1;33m\u001b[0m\u001b[0m\n\u001b[0;32m    233\u001b[0m         \"\"\"\n\u001b[1;32m--> 234\u001b[1;33m         \u001b[1;32mreturn\u001b[0m \u001b[0mself\u001b[0m\u001b[1;33m.\u001b[0m\u001b[0mfind_element\u001b[0m\u001b[1;33m(\u001b[0m\u001b[0mby\u001b[0m\u001b[1;33m=\u001b[0m\u001b[0mBy\u001b[0m\u001b[1;33m.\u001b[0m\u001b[0mID\u001b[0m\u001b[1;33m,\u001b[0m \u001b[0mvalue\u001b[0m\u001b[1;33m=\u001b[0m\u001b[0mid_\u001b[0m\u001b[1;33m)\u001b[0m\u001b[1;33m\u001b[0m\u001b[0m\n\u001b[0m\u001b[0;32m    235\u001b[0m \u001b[1;33m\u001b[0m\u001b[0m\n\u001b[0;32m    236\u001b[0m     \u001b[1;32mdef\u001b[0m \u001b[0mfind_elements_by_id\u001b[0m\u001b[1;33m(\u001b[0m\u001b[0mself\u001b[0m\u001b[1;33m,\u001b[0m \u001b[0mid_\u001b[0m\u001b[1;33m)\u001b[0m\u001b[1;33m:\u001b[0m\u001b[1;33m\u001b[0m\u001b[0m\n",
      "\u001b[1;32mC:\\Anaconda3\\lib\\site-packages\\selenium\\webdriver\\remote\\webdriver.py\u001b[0m in \u001b[0;36mfind_element\u001b[1;34m(self, by, value)\u001b[0m\n\u001b[0;32m    710\u001b[0m                 \u001b[0mvalue\u001b[0m \u001b[1;33m=\u001b[0m \u001b[1;34m'[name=\"%s\"]'\u001b[0m \u001b[1;33m%\u001b[0m \u001b[0mvalue\u001b[0m\u001b[1;33m\u001b[0m\u001b[0m\n\u001b[0;32m    711\u001b[0m         return self.execute(Command.FIND_ELEMENT,\n\u001b[1;32m--> 712\u001b[1;33m                              {'using': by, 'value': value})['value']\n\u001b[0m\u001b[0;32m    713\u001b[0m \u001b[1;33m\u001b[0m\u001b[0m\n\u001b[0;32m    714\u001b[0m     \u001b[1;32mdef\u001b[0m \u001b[0mfind_elements\u001b[0m\u001b[1;33m(\u001b[0m\u001b[0mself\u001b[0m\u001b[1;33m,\u001b[0m \u001b[0mby\u001b[0m\u001b[1;33m=\u001b[0m\u001b[0mBy\u001b[0m\u001b[1;33m.\u001b[0m\u001b[0mID\u001b[0m\u001b[1;33m,\u001b[0m \u001b[0mvalue\u001b[0m\u001b[1;33m=\u001b[0m\u001b[1;32mNone\u001b[0m\u001b[1;33m)\u001b[0m\u001b[1;33m:\u001b[0m\u001b[1;33m\u001b[0m\u001b[0m\n",
      "\u001b[1;32mC:\\Anaconda3\\lib\\site-packages\\selenium\\webdriver\\remote\\webdriver.py\u001b[0m in \u001b[0;36mexecute\u001b[1;34m(self, driver_command, params)\u001b[0m\n\u001b[0;32m    199\u001b[0m         \u001b[0mresponse\u001b[0m \u001b[1;33m=\u001b[0m \u001b[0mself\u001b[0m\u001b[1;33m.\u001b[0m\u001b[0mcommand_executor\u001b[0m\u001b[1;33m.\u001b[0m\u001b[0mexecute\u001b[0m\u001b[1;33m(\u001b[0m\u001b[0mdriver_command\u001b[0m\u001b[1;33m,\u001b[0m \u001b[0mparams\u001b[0m\u001b[1;33m)\u001b[0m\u001b[1;33m\u001b[0m\u001b[0m\n\u001b[0;32m    200\u001b[0m         \u001b[1;32mif\u001b[0m \u001b[0mresponse\u001b[0m\u001b[1;33m:\u001b[0m\u001b[1;33m\u001b[0m\u001b[0m\n\u001b[1;32m--> 201\u001b[1;33m             \u001b[0mself\u001b[0m\u001b[1;33m.\u001b[0m\u001b[0merror_handler\u001b[0m\u001b[1;33m.\u001b[0m\u001b[0mcheck_response\u001b[0m\u001b[1;33m(\u001b[0m\u001b[0mresponse\u001b[0m\u001b[1;33m)\u001b[0m\u001b[1;33m\u001b[0m\u001b[0m\n\u001b[0m\u001b[0;32m    202\u001b[0m             response['value'] = self._unwrap_value(\n\u001b[0;32m    203\u001b[0m                 response.get('value', None))\n",
      "\u001b[1;32mC:\\Anaconda3\\lib\\site-packages\\selenium\\webdriver\\remote\\errorhandler.py\u001b[0m in \u001b[0;36mcheck_response\u001b[1;34m(self, response)\u001b[0m\n\u001b[0;32m    192\u001b[0m         \u001b[1;32melif\u001b[0m \u001b[0mexception_class\u001b[0m \u001b[1;33m==\u001b[0m \u001b[0mUnexpectedAlertPresentException\u001b[0m \u001b[1;32mand\u001b[0m \u001b[1;34m'alert'\u001b[0m \u001b[1;32min\u001b[0m \u001b[0mvalue\u001b[0m\u001b[1;33m:\u001b[0m\u001b[1;33m\u001b[0m\u001b[0m\n\u001b[0;32m    193\u001b[0m             \u001b[1;32mraise\u001b[0m \u001b[0mexception_class\u001b[0m\u001b[1;33m(\u001b[0m\u001b[0mmessage\u001b[0m\u001b[1;33m,\u001b[0m \u001b[0mscreen\u001b[0m\u001b[1;33m,\u001b[0m \u001b[0mstacktrace\u001b[0m\u001b[1;33m,\u001b[0m \u001b[0mvalue\u001b[0m\u001b[1;33m[\u001b[0m\u001b[1;34m'alert'\u001b[0m\u001b[1;33m]\u001b[0m\u001b[1;33m.\u001b[0m\u001b[0mget\u001b[0m\u001b[1;33m(\u001b[0m\u001b[1;34m'text'\u001b[0m\u001b[1;33m)\u001b[0m\u001b[1;33m)\u001b[0m\u001b[1;33m\u001b[0m\u001b[0m\n\u001b[1;32m--> 194\u001b[1;33m         \u001b[1;32mraise\u001b[0m \u001b[0mexception_class\u001b[0m\u001b[1;33m(\u001b[0m\u001b[0mmessage\u001b[0m\u001b[1;33m,\u001b[0m \u001b[0mscreen\u001b[0m\u001b[1;33m,\u001b[0m \u001b[0mstacktrace\u001b[0m\u001b[1;33m)\u001b[0m\u001b[1;33m\u001b[0m\u001b[0m\n\u001b[0m\u001b[0;32m    195\u001b[0m \u001b[1;33m\u001b[0m\u001b[0m\n\u001b[0;32m    196\u001b[0m     \u001b[1;32mdef\u001b[0m \u001b[0m_value_or_default\u001b[0m\u001b[1;33m(\u001b[0m\u001b[0mself\u001b[0m\u001b[1;33m,\u001b[0m \u001b[0mobj\u001b[0m\u001b[1;33m,\u001b[0m \u001b[0mkey\u001b[0m\u001b[1;33m,\u001b[0m \u001b[0mdefault\u001b[0m\u001b[1;33m)\u001b[0m\u001b[1;33m:\u001b[0m\u001b[1;33m\u001b[0m\u001b[0m\n",
      "\u001b[1;31mNoSuchElementException\u001b[0m: Message: Unable to locate element: {\"method\":\"id\",\"selector\":\"dataRange\"}\nStacktrace:\n    at FirefoxDriver.prototype.findElementInternal_ (file:///C:/Users/boyuh/AppData/Local/Temp/tmp5im_4b8b/extensions/fxdriver@googlecode.com/components/driver-component.js:10723)\n    at fxdriver.Timer.prototype.setTimeout/<.notify (file:///C:/Users/boyuh/AppData/Local/Temp/tmp5im_4b8b/extensions/fxdriver@googlecode.com/components/driver-component.js:623)"
     ]
    }
   ],
   "source": [
    "d = StockChartTester()\n",
    "for index in range(0, trade_df.EnterDate.size):\n",
    "    trade = trade_df.iloc[index].copy()\n",
    "    trade['EnterTicker'] = trade['EnterTicker'].replace('.','/').replace('/TO', '.TO')\n",
    "    d.save_chart(trade, dest='TripleScreenBull')"
   ]
  },
  {
   "cell_type": "code",
   "execution_count": null,
   "metadata": {
    "collapsed": false
   },
   "outputs": [],
   "source": [
    "df.tail(10)"
   ]
  },
  {
   "cell_type": "code",
   "execution_count": null,
   "metadata": {
    "collapsed": true
   },
   "outputs": [],
   "source": []
  },
  {
   "cell_type": "code",
   "execution_count": null,
   "metadata": {
    "collapsed": true
   },
   "outputs": [],
   "source": []
  },
  {
   "cell_type": "code",
   "execution_count": null,
   "metadata": {
    "collapsed": true
   },
   "outputs": [],
   "source": []
  },
  {
   "cell_type": "code",
   "execution_count": null,
   "metadata": {
    "collapsed": true
   },
   "outputs": [],
   "source": []
  },
  {
   "cell_type": "code",
   "execution_count": 22,
   "metadata": {
    "collapsed": false
   },
   "outputs": [],
   "source": [
    "i = 6\n",
    "ticker = df.ix[i].Ticker\n",
    "start_date = df.ix[i].Date\n",
    "trade = StockChartTester.process_macd_calc_long(ticker, start_date)"
   ]
  },
  {
   "cell_type": "code",
   "execution_count": 23,
   "metadata": {
    "collapsed": false
   },
   "outputs": [
    {
     "name": "stdout",
     "output_type": "stream",
     "text": [
      "EnterDate: 2016-02-17 \tEnterTicker: TCL/A.TO\n",
      "EnterPrice: 18.3 \t\tInitialStop: 17.21\n",
      "TargetPrice: 15.030000000000001\tEnterDirection: Long\n",
      "ExitDate: 2016-03-02\tExitPrice: 19.77 IsMissed: 0\n"
     ]
    }
   ],
   "source": [
    "trade.tostr()"
   ]
  },
  {
   "cell_type": "code",
   "execution_count": 24,
   "metadata": {
    "collapsed": false
   },
   "outputs": [],
   "source": [
    "a = trade.todf()"
   ]
  },
  {
   "cell_type": "code",
   "execution_count": null,
   "metadata": {
    "collapsed": true
   },
   "outputs": [],
   "source": [
    "price_dest = 'C:\\\\temp' \n",
    "price_df = pd.read_csv(os.path.join(price_dest, str.format('{0}.csv', ticker.replace('/','.'))) , index_col=0)"
   ]
  },
  {
   "cell_type": "code",
   "execution_count": null,
   "metadata": {
    "collapsed": false
   },
   "outputs": [],
   "source": [
    "price_df[:start_date].tail(5).Low.min()"
   ]
  },
  {
   "cell_type": "code",
   "execution_count": null,
   "metadata": {
    "collapsed": false
   },
   "outputs": [],
   "source": [
    "# want to show any trade results\n",
    "#d = StockChartTester()\n",
    "d.show_stock(trade.enter_ticker, trade.exit_date)"
   ]
  },
  {
   "cell_type": "code",
   "execution_count": null,
   "metadata": {
    "collapsed": false
   },
   "outputs": [],
   "source": [
    "d = StockChartTester()\n",
    "d.save_chart(a.ix[0], dest='TripleScreenBull')"
   ]
  },
  {
   "cell_type": "code",
   "execution_count": 32,
   "metadata": {
    "collapsed": true
   },
   "outputs": [],
   "source": [
    "b=a.ix[0].copy()"
   ]
  },
  {
   "cell_type": "code",
   "execution_count": 33,
   "metadata": {
    "collapsed": false
   },
   "outputs": [],
   "source": [
    "b['EnterTicker'] = b['EnterTicker'].replace('.','/').replace('/TO', '.TO')"
   ]
  },
  {
   "cell_type": "code",
   "execution_count": 31,
   "metadata": {
    "collapsed": false
   },
   "outputs": [
    {
     "data": {
      "text/plain": [
       "EnterDate         2016-02-17\n",
       "EnterDirection          Long\n",
       "EnterPrice              18.3\n",
       "EnterTicker         TCL/A.TO\n",
       "ExitDate          2016-03-02\n",
       "ExitPrice              19.77\n",
       "InitialStop            17.21\n",
       "IsMissed                   0\n",
       "TargetPrice            15.03\n",
       "Name: 0, dtype: object"
      ]
     },
     "execution_count": 31,
     "metadata": {},
     "output_type": "execute_result"
    }
   ],
   "source": [
    "b"
   ]
  },
  {
   "cell_type": "code",
   "execution_count": null,
   "metadata": {
    "collapsed": true
   },
   "outputs": [],
   "source": []
  }
 ],
 "metadata": {
  "kernelspec": {
   "display_name": "Python 3",
   "language": "python",
   "name": "python3"
  },
  "language_info": {
   "codemirror_mode": {
    "name": "ipython",
    "version": 3
   },
   "file_extension": ".py",
   "mimetype": "text/x-python",
   "name": "python",
   "nbconvert_exporter": "python",
   "pygments_lexer": "ipython3",
   "version": "3.5.1"
  }
 },
 "nbformat": 4,
 "nbformat_minor": 0
}

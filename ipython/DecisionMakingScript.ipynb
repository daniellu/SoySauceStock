{
 "cells": [
  {
   "cell_type": "code",
   "execution_count": null,
   "metadata": {
    "collapsed": false
   },
   "outputs": [],
   "source": [
    "import pandas as pd\n",
    "import json\n",
    "import os\n",
    "from selenium import webdriver\n",
    "from selenium.webdriver.support.ui import Select\n",
    "from selenium.webdriver.common.keys import Keys\n",
    "from datetime import date\n",
    "from dateutil import parser\n",
    "from dateutil.relativedelta import relativedelta\n",
    "\n",
    "import sys\n",
    "sys.path.append('..')\n",
    "from soysaucestock.stock_price_scraper import StockChartScraper\n",
    "from soysaucestock.stock_chart_backtester import StockChartTester, TradeResult\n",
    "from soysaucestock.technical_analyzer import TechnicalAnalyzer"
   ]
  },
  {
   "cell_type": "code",
   "execution_count": null,
   "metadata": {
    "collapsed": false
   },
   "outputs": [],
   "source": [
    "def remove_candidate_if_traded(df, result_df):\n",
    "    if any(trade_df.EnterTicker == df.iloc[0].Ticker) and trade_df.loc[trade_df.EnterTicker == df.iloc[0].Ticker].ExitDate.max() > df.iloc[0].Date:\n",
    "        df.drop(df.head(1).index, inplace=True)\n",
    "        remove_candidate_if_traded(df, result_df)"
   ]
  },
  {
   "cell_type": "code",
   "execution_count": null,
   "metadata": {
    "collapsed": false
   },
   "outputs": [],
   "source": [
    "#target_file = \"C:\\\\temp\\\\TripleScreenBear.csv\"\n",
    "target_file = \"C:\\\\temp\\\\WorkingInProgress.csv\"\n",
    "df = pd.read_csv(target_file, parse_dates=True)\n",
    "#df = df.sort_index(ascending=False)"
   ]
  },
  {
   "cell_type": "code",
   "execution_count": null,
   "metadata": {
    "collapsed": true
   },
   "outputs": [],
   "source": [
    "trade_df = pd.DataFrame()"
   ]
  },
  {
   "cell_type": "code",
   "execution_count": null,
   "metadata": {
    "collapsed": false
   },
   "outputs": [],
   "source": [
    "# get all the stock prices if it is not there\n",
    "StockChartScraper.save_stocks(df.Ticker.tolist())"
   ]
  },
  {
   "cell_type": "code",
   "execution_count": null,
   "metadata": {
    "collapsed": false
   },
   "outputs": [],
   "source": [
    "# Login\n",
    "sct = StockChartTester()"
   ]
  },
  {
   "cell_type": "code",
   "execution_count": null,
   "metadata": {
    "collapsed": false
   },
   "outputs": [],
   "source": [
    "# move to the next available stock\n",
    "sct.move_next(df)"
   ]
  },
  {
   "cell_type": "code",
   "execution_count": null,
   "metadata": {
    "collapsed": false
   },
   "outputs": [],
   "source": [
    "# Happy with the setup and move to the next records that is not traded\n",
    "df.drop(df.head(1).index, inplace=True)\n",
    "remove_candidate_if_traded(df, trade_df)\n",
    "print(df.iloc[0].Ticker + ' ' + df.iloc[0].Date)"
   ]
  },
  {
   "cell_type": "code",
   "execution_count": null,
   "metadata": {
    "collapsed": false
   },
   "outputs": [],
   "source": [
    "enter_date = driver.find_element_by_id('end').get_attribute('value')\n",
    "enter_ticker = ticker\n",
    "enter_price = 43.51\n",
    "initial_stop = 45.03\n",
    "target_price = 42.01\n",
    "enter_direction = 'Short'"
   ]
  },
  {
   "cell_type": "code",
   "execution_count": null,
   "metadata": {
    "collapsed": false
   },
   "outputs": [],
   "source": [
    "exit_date = driver.find_element_by_id('end').get_attribute('value')\n",
    "exit_price = 44.45\n",
    "is_missed = 0\n",
    "trade = TradeResult(enter_date, enter_ticker, enter_price, initial_stop, target_price, enter_direction, exit_date, exit_price, is_missed)\n",
    "trade.tostr()"
   ]
  },
  {
   "cell_type": "code",
   "execution_count": null,
   "metadata": {
    "collapsed": false
   },
   "outputs": [],
   "source": [
    "trade_df = trade_df.append(trade.todf(), ignore_index=True)\n",
    "trade_df.tail(5)"
   ]
  },
  {
   "cell_type": "code",
   "execution_count": null,
   "metadata": {
    "collapsed": true
   },
   "outputs": [],
   "source": []
  },
  {
   "cell_type": "code",
   "execution_count": null,
   "metadata": {
    "collapsed": true
   },
   "outputs": [],
   "source": []
  },
  {
   "cell_type": "code",
   "execution_count": null,
   "metadata": {
    "collapsed": false
   },
   "outputs": [],
   "source": [
    "#trade_df = trade_df.iloc[0:12]"
   ]
  },
  {
   "cell_type": "code",
   "execution_count": null,
   "metadata": {
    "collapsed": true
   },
   "outputs": [],
   "source": []
  },
  {
   "cell_type": "code",
   "execution_count": null,
   "metadata": {
    "collapsed": true
   },
   "outputs": [],
   "source": []
  },
  {
   "cell_type": "code",
   "execution_count": null,
   "metadata": {
    "collapsed": true
   },
   "outputs": [],
   "source": []
  },
  {
   "cell_type": "code",
   "execution_count": null,
   "metadata": {
    "collapsed": true
   },
   "outputs": [],
   "source": []
  },
  {
   "cell_type": "code",
   "execution_count": null,
   "metadata": {
    "collapsed": true
   },
   "outputs": [],
   "source": []
  },
  {
   "cell_type": "code",
   "execution_count": null,
   "metadata": {
    "collapsed": true
   },
   "outputs": [],
   "source": [
    "# save all the trades info for further documentation\n",
    "# header = EnterDate,EnterDirection,EnterPrice,EnterTicker,ExitDate,ExitPrice,InitialStop,IsMissed,TargetPrice\n",
    "result_file = \"C:\\\\temp\\\\trade_result.csv\"\n",
    "with open(result_file, 'a+') as f:\n",
    "    trade_df.to_csv(f, header=False, index=False)"
   ]
  },
  {
   "cell_type": "code",
   "execution_count": null,
   "metadata": {
    "collapsed": true
   },
   "outputs": [],
   "source": [
    "# save the records for next time to work\n",
    "df.to_csv('C:\\\\temp\\\\WorkingInProgress.csv', index=False)"
   ]
  },
  {
   "cell_type": "code",
   "execution_count": null,
   "metadata": {
    "collapsed": true
   },
   "outputs": [],
   "source": []
  }
 ],
 "metadata": {
  "kernelspec": {
   "display_name": "Python 2",
   "language": "python",
   "name": "python2"
  },
  "language_info": {
   "codemirror_mode": {
    "name": "ipython",
    "version": 2
   },
   "file_extension": ".py",
   "mimetype": "text/x-python",
   "name": "python",
   "nbconvert_exporter": "python",
   "pygments_lexer": "ipython2",
   "version": "2.7.11"
  }
 },
 "nbformat": 4,
 "nbformat_minor": 0
}

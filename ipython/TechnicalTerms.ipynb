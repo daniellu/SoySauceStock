{
 "cells": [
  {
   "cell_type": "code",
   "execution_count": 98,
   "metadata": {
    "collapsed": true
   },
   "outputs": [],
   "source": [
    "import datetime\n",
    "import pandas as pd"
   ]
  },
  {
   "cell_type": "code",
   "execution_count": 99,
   "metadata": {
    "collapsed": true
   },
   "outputs": [],
   "source": [
    "df = pd.read_csv('c:\\\\temp\\\\RY.TO.csv', index_col = 0)"
   ]
  },
  {
   "cell_type": "code",
   "execution_count": 100,
   "metadata": {
    "collapsed": true
   },
   "outputs": [],
   "source": [
    "def moving_average_convergence(df, nslow=26, nfast=12, nsignal=9):\n",
    "    slow_ema = pd.ewma(df, span=nslow)\n",
    "    fast_ema = pd.ewma(df, span=nfast)\n",
    "    macd_line = fast_ema - slow_ema\n",
    "    signal_line = pd.ewma(macd_line, span=nsignal)\n",
    "    histogram = macd_line - signal_line\n",
    "    return histogram, macd_line, signal_line,  slow_ema, fast_ema\n",
    "    "
   ]
  },
  {
   "cell_type": "code",
   "execution_count": 101,
   "metadata": {
    "collapsed": false
   },
   "outputs": [],
   "source": [
    "a = df.Close.copy()"
   ]
  },
  {
   "cell_type": "code",
   "execution_count": 123,
   "metadata": {
    "collapsed": false
   },
   "outputs": [],
   "source": [
    "def target_macd_h_price(s, target_price=None):\n",
    "    if target_price is None:\n",
    "        target_price = s.iloc[-1]\n",
    "    new_series = s.append(pd.Series(target_price, index={'9999-12-31'})).copy()\n",
    "    \n",
    "    h,_,_,_,_ = moving_average_convergence(new_series)\n",
    "    \n",
    "    for iloop in range(0, 1000):\n",
    "        h,_,_,_,_ = moving_average_convergence(new_series)\n",
    "        \n",
    "        if abs(h.iloc[-2] - h.iloc[-1]) < 0.0001:\n",
    "            break\n",
    "        if h.iloc[-2] > h.iloc[-1]:\n",
    "            target_price = target_price + 0.01\n",
    "        if h.iloc[-2] < h.iloc[-1]:\n",
    "            target_price = target_price - 0.01\n",
    "        new_series.iloc[-1] = target_price\n",
    "    return target_price\n",
    "        "
   ]
  },
  {
   "cell_type": "code",
   "execution_count": 124,
   "metadata": {
    "collapsed": false
   },
   "outputs": [],
   "source": [
    "target_price = target_macd_h_price(a)  # this is the target price to make MACD to the same size of the actual previous bar"
   ]
  },
  {
   "cell_type": "code",
   "execution_count": 125,
   "metadata": {
    "collapsed": false
   },
   "outputs": [
    {
     "data": {
      "text/plain": [
       "75.490000000000776"
      ]
     },
     "execution_count": 125,
     "metadata": {},
     "output_type": "execute_result"
    }
   ],
   "source": [
    "target_price"
   ]
  },
  {
   "cell_type": "code",
   "execution_count": 126,
   "metadata": {
    "collapsed": false
   },
   "outputs": [],
   "source": [
    "b = a.append(pd.Series(75.49, index={'9999-12-31'})).copy()"
   ]
  },
  {
   "cell_type": "code",
   "execution_count": 127,
   "metadata": {
    "collapsed": false
   },
   "outputs": [],
   "source": [
    "h,_,_,_,_ = moving_average_convergence(b)"
   ]
  },
  {
   "cell_type": "code",
   "execution_count": 128,
   "metadata": {
    "collapsed": false
   },
   "outputs": [
    {
     "data": {
      "text/plain": [
       "Date\n",
       "2016-03-21    0.356744\n",
       "2016-03-22    0.253492\n",
       "2016-03-23    0.173845\n",
       "2016-03-24    0.041297\n",
       "9999-12-31    0.041352\n",
       "dtype: float64"
      ]
     },
     "execution_count": 128,
     "metadata": {},
     "output_type": "execute_result"
    }
   ],
   "source": [
    "h.tail(5)"
   ]
  },
  {
   "cell_type": "code",
   "execution_count": null,
   "metadata": {
    "collapsed": true
   },
   "outputs": [],
   "source": []
  }
 ],
 "metadata": {
  "kernelspec": {
   "display_name": "Python 3",
   "language": "python",
   "name": "python3"
  },
  "language_info": {
   "codemirror_mode": {
    "name": "ipython",
    "version": 3
   },
   "file_extension": ".py",
   "mimetype": "text/x-python",
   "name": "python",
   "nbconvert_exporter": "python",
   "pygments_lexer": "ipython3",
   "version": "3.5.1"
  }
 },
 "nbformat": 4,
 "nbformat_minor": 0
}

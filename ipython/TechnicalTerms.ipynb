{
 "cells": [
  {
   "cell_type": "code",
   "execution_count": 1,
   "metadata": {
    "collapsed": true
   },
   "outputs": [],
   "source": [
    "import datetime\n",
    "import pandas as pd"
   ]
  },
  {
   "cell_type": "code",
   "execution_count": 2,
   "metadata": {
    "collapsed": true
   },
   "outputs": [],
   "source": [
    "df = pd.read_csv('c:\\\\temp\\\\RY.TO.csv', index_col = 0)"
   ]
  },
  {
   "cell_type": "code",
   "execution_count": 22,
   "metadata": {
    "collapsed": false
   },
   "outputs": [
    {
     "data": {
      "text/html": [
       "<div>\n",
       "<table border=\"1\" class=\"dataframe\">\n",
       "  <thead>\n",
       "    <tr style=\"text-align: right;\">\n",
       "      <th></th>\n",
       "      <th>Open</th>\n",
       "      <th>High</th>\n",
       "      <th>Low</th>\n",
       "      <th>Close</th>\n",
       "      <th>Volume</th>\n",
       "    </tr>\n",
       "    <tr>\n",
       "      <th>Date</th>\n",
       "      <th></th>\n",
       "      <th></th>\n",
       "      <th></th>\n",
       "      <th></th>\n",
       "      <th></th>\n",
       "    </tr>\n",
       "  </thead>\n",
       "  <tbody>\n",
       "    <tr>\n",
       "      <th>2016-03-23</th>\n",
       "      <td>74.89</td>\n",
       "      <td>75.35</td>\n",
       "      <td>74.65</td>\n",
       "      <td>74.79</td>\n",
       "      <td>3483872</td>\n",
       "    </tr>\n",
       "    <tr>\n",
       "      <th>2016-03-24</th>\n",
       "      <td>74.75</td>\n",
       "      <td>75.18</td>\n",
       "      <td>74.38</td>\n",
       "      <td>74.94</td>\n",
       "      <td>2806004</td>\n",
       "    </tr>\n",
       "    <tr>\n",
       "      <th>2016-03-28</th>\n",
       "      <td>74.24</td>\n",
       "      <td>74.29</td>\n",
       "      <td>73.56</td>\n",
       "      <td>73.97</td>\n",
       "      <td>3894950</td>\n",
       "    </tr>\n",
       "    <tr>\n",
       "      <th>2016-03-29</th>\n",
       "      <td>74.10</td>\n",
       "      <td>74.82</td>\n",
       "      <td>73.80</td>\n",
       "      <td>74.75</td>\n",
       "      <td>2147761</td>\n",
       "    </tr>\n",
       "    <tr>\n",
       "      <th>2016-03-30</th>\n",
       "      <td>74.40</td>\n",
       "      <td>74.85</td>\n",
       "      <td>73.70</td>\n",
       "      <td>74.78</td>\n",
       "      <td>3495002</td>\n",
       "    </tr>\n",
       "  </tbody>\n",
       "</table>\n",
       "</div>"
      ],
      "text/plain": [
       "             Open   High    Low  Close   Volume\n",
       "Date                                           \n",
       "2016-03-23  74.89  75.35  74.65  74.79  3483872\n",
       "2016-03-24  74.75  75.18  74.38  74.94  2806004\n",
       "2016-03-28  74.24  74.29  73.56  73.97  3894950\n",
       "2016-03-29  74.10  74.82  73.80  74.75  2147761\n",
       "2016-03-30  74.40  74.85  73.70  74.78  3495002"
      ]
     },
     "execution_count": 22,
     "metadata": {},
     "output_type": "execute_result"
    }
   ],
   "source": [
    "df.shift(1).tail(5)"
   ]
  },
  {
   "cell_type": "code",
   "execution_count": 26,
   "metadata": {
    "collapsed": false
   },
   "outputs": [
    {
     "data": {
      "text/plain": [
       "Date\n",
       "1990-01-02            NaN\n",
       "1990-01-03       12715.71\n",
       "1990-01-04           0.00\n",
       "1990-01-05      -39996.68\n",
       "1990-01-08      -30831.06\n",
       "1990-01-09     -111440.10\n",
       "1990-01-10      -24552.87\n",
       "1990-01-11           0.00\n",
       "1990-01-12     -480501.00\n",
       "1990-01-15       28089.59\n",
       "1990-01-16      117970.65\n",
       "1990-01-17       63325.80\n",
       "1990-01-18     -105449.50\n",
       "1990-01-19      -18304.42\n",
       "1990-01-22     -217496.64\n",
       "1990-01-23     -143583.96\n",
       "1990-01-24    -1480728.92\n",
       "1990-01-25      -48981.94\n",
       "1990-01-26     -448776.30\n",
       "1990-01-29           0.00\n",
       "1990-01-30     -105414.66\n",
       "1990-01-31      -86703.32\n",
       "1990-02-01      158596.86\n",
       "1990-02-02       37185.92\n",
       "1990-02-05       59607.94\n",
       "1990-02-06       96794.04\n",
       "1990-02-07      -59206.08\n",
       "1990-02-08           0.00\n",
       "1990-02-09       -8661.06\n",
       "1990-02-12           0.00\n",
       "                 ...     \n",
       "2016-02-17     8826713.28\n",
       "2016-02-18      215995.60\n",
       "2016-02-19     1593400.48\n",
       "2016-02-22    -4611614.73\n",
       "2016-02-23    -4495398.02\n",
       "2016-02-24   -19207832.28\n",
       "2016-02-25     -145400.67\n",
       "2016-02-26     1977165.96\n",
       "2016-02-29     3648692.58\n",
       "2016-03-01     5502769.25\n",
       "2016-03-02      -49034.64\n",
       "2016-03-03     2527678.00\n",
       "2016-03-04     2838691.17\n",
       "2016-03-07     3840569.88\n",
       "2016-03-08     2480700.96\n",
       "2016-03-09     2641763.28\n",
       "2016-03-10      126536.22\n",
       "2016-03-11     5032164.41\n",
       "2016-03-14           0.00\n",
       "2016-03-15     1339809.45\n",
       "2016-03-16       81341.98\n",
       "2016-03-17     7806899.88\n",
       "2016-03-18    -5856008.32\n",
       "2016-03-21      352888.80\n",
       "2016-03-22    -1846452.16\n",
       "2016-03-23      420900.60\n",
       "2016-03-24    -3778101.50\n",
       "2016-03-28     1675253.58\n",
       "2016-03-29      104850.06\n",
       "2016-03-30     1376308.96\n",
       "dtype: float64"
      ]
     },
     "execution_count": 26,
     "metadata": {},
     "output_type": "execute_result"
    }
   ],
   "source": [
    "(df.Close - df.Close.shift(1)) * df.Volume "
   ]
  },
  {
   "cell_type": "code",
   "execution_count": 16,
   "metadata": {
    "collapsed": false
   },
   "outputs": [
    {
     "data": {
      "text/plain": [
       "Date\n",
       "2016-03-23    5.75\n",
       "2016-03-24    5.26\n",
       "2016-03-28    4.47\n",
       "2016-03-29    3.49\n",
       "2016-03-30    3.49\n",
       "dtype: float64"
      ]
     },
     "execution_count": 16,
     "metadata": {},
     "output_type": "execute_result"
    }
   ],
   "source": [
    "s_rolling_high.tail(5) - s_rolling_low.tail(5)"
   ]
  },
  {
   "cell_type": "code",
   "execution_count": 14,
   "metadata": {
    "collapsed": false
   },
   "outputs": [
    {
     "data": {
      "text/plain": [
       "Date\n",
       "2016-03-23    76.25\n",
       "2016-03-24    76.25\n",
       "2016-03-28    76.25\n",
       "2016-03-29    76.25\n",
       "2016-03-30    76.25\n",
       "Name: High, dtype: float64"
      ]
     },
     "execution_count": 14,
     "metadata": {},
     "output_type": "execute_result"
    }
   ],
   "source": [
    "s_rolling_high.tail(5) - s_rolling_low.tail(5)"
   ]
  },
  {
   "cell_type": "code",
   "execution_count": 15,
   "metadata": {
    "collapsed": false
   },
   "outputs": [
    {
     "data": {
      "text/plain": [
       "Date\n",
       "2016-03-23    70.50\n",
       "2016-03-24    70.99\n",
       "2016-03-28    71.78\n",
       "2016-03-29    72.76\n",
       "2016-03-30    72.76\n",
       "Name: Low, dtype: float64"
      ]
     },
     "execution_count": 15,
     "metadata": {},
     "output_type": "execute_result"
    }
   ],
   "source": []
  },
  {
   "cell_type": "code",
   "execution_count": 17,
   "metadata": {
    "collapsed": false
   },
   "outputs": [
    {
     "data": {
      "text/plain": [
       "Date\n",
       "1990-01-02           NaN\n",
       "1990-01-03           NaN\n",
       "1990-01-04           NaN\n",
       "1990-01-05           NaN\n",
       "1990-01-08           NaN\n",
       "1990-01-09           NaN\n",
       "1990-01-10           NaN\n",
       "1990-01-11           NaN\n",
       "1990-01-12           NaN\n",
       "1990-01-15           NaN\n",
       "1990-01-16           NaN\n",
       "1990-01-17           NaN\n",
       "1990-01-18           NaN\n",
       "1990-01-19    -78.947368\n",
       "1990-01-22   -100.000000\n",
       "1990-01-23    -96.428571\n",
       "1990-01-24    -90.243902\n",
       "1990-01-25    -94.871795\n",
       "1990-01-26    -90.697674\n",
       "1990-01-29    -90.476190\n",
       "1990-01-30   -100.000000\n",
       "1990-01-31    -97.959184\n",
       "1990-02-01    -85.714286\n",
       "1990-02-02    -81.632653\n",
       "1990-02-05    -67.346939\n",
       "1990-02-06    -50.000000\n",
       "1990-02-07    -59.090909\n",
       "1990-02-08    -57.142857\n",
       "1990-02-09    -55.555556\n",
       "1990-02-12    -33.333333\n",
       "                 ...    \n",
       "2016-02-17    -19.925280\n",
       "2016-02-18    -19.302615\n",
       "2016-02-19     -5.849582\n",
       "2016-02-22    -20.080321\n",
       "2016-02-23    -31.593039\n",
       "2016-02-24    -55.957162\n",
       "2016-02-25    -56.358768\n",
       "2016-02-26    -49.531459\n",
       "2016-02-29    -39.089692\n",
       "2016-03-01    -24.765730\n",
       "2016-03-02    -24.899598\n",
       "2016-03-03    -19.254658\n",
       "2016-03-04     -9.472050\n",
       "2016-03-07     -1.038576\n",
       "2016-03-08     -0.000000\n",
       "2016-03-09     -6.012270\n",
       "2016-03-10     -9.208973\n",
       "2016-03-11     -0.571429\n",
       "2016-03-14     -4.185022\n",
       "2016-03-15     -0.412088\n",
       "2016-03-16     -6.758621\n",
       "2016-03-17     -4.881101\n",
       "2016-03-18    -14.325452\n",
       "2016-03-21    -12.934631\n",
       "2016-03-22    -23.548387\n",
       "2016-03-23    -22.782609\n",
       "2016-03-24    -43.346008\n",
       "2016-03-28    -33.557047\n",
       "2016-03-29    -42.120344\n",
       "2016-03-30    -15.759312\n",
       "dtype: float64"
      ]
     },
     "execution_count": 17,
     "metadata": {},
     "output_type": "execute_result"
    }
   ],
   "source": [
    "# %R = (Highest High - Close)/(Highest High - Lowest Low) * -100\n",
    "(s_rolling_high - df.Close) / (s_rolling_high - s_rolling_low) * -100"
   ]
  },
  {
   "cell_type": "code",
   "execution_count": null,
   "metadata": {
    "collapsed": true
   },
   "outputs": [],
   "source": []
  }
 ],
 "metadata": {
  "kernelspec": {
   "display_name": "Python 2",
   "language": "python",
   "name": "python2"
  },
  "language_info": {
   "codemirror_mode": {
    "name": "ipython",
    "version": 2
   },
   "file_extension": ".py",
   "mimetype": "text/x-python",
   "name": "python",
   "nbconvert_exporter": "python",
   "pygments_lexer": "ipython2",
   "version": "2.7.11"
  }
 },
 "nbformat": 4,
 "nbformat_minor": 0
}
